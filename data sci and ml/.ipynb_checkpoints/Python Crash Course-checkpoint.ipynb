{
 "cells": [
  {
   "cell_type": "code",
   "execution_count": 34,
   "id": "85c8f598",
   "metadata": {},
   "outputs": [],
   "source": [
    "testy = [1,2,3,4]\n",
    "testy.append('1')"
   ]
  },
  {
   "cell_type": "code",
   "execution_count": 35,
   "id": "0466f067",
   "metadata": {},
   "outputs": [],
   "source": [
    "testy[0] = 'rar'"
   ]
  },
  {
   "cell_type": "code",
   "execution_count": 36,
   "id": "fce26a2b",
   "metadata": {},
   "outputs": [
    {
     "data": {
      "text/plain": [
       "['rar', 2, 3, 4, '1']"
      ]
     },
     "execution_count": 36,
     "metadata": {},
     "output_type": "execute_result"
    }
   ],
   "source": [
    "[i for i in testy] # List comprehension"
   ]
  },
  {
   "cell_type": "code",
   "execution_count": 37,
   "id": "08330490",
   "metadata": {},
   "outputs": [
    {
     "data": {
      "text/plain": [
       "['rar', 2, 3, 4, '1']"
      ]
     },
     "execution_count": 37,
     "metadata": {},
     "output_type": "execute_result"
    }
   ],
   "source": [
    "testy"
   ]
  },
  {
   "cell_type": "code",
   "execution_count": 38,
   "id": "187084c3",
   "metadata": {},
   "outputs": [],
   "source": [
    "testy.append([1,2,3])"
   ]
  },
  {
   "cell_type": "code",
   "execution_count": 39,
   "id": "c11fdffd",
   "metadata": {},
   "outputs": [
    {
     "data": {
      "text/plain": [
       "['rar', 2, 3, 4, '1', [1, 2, 3]]"
      ]
     },
     "execution_count": 39,
     "metadata": {},
     "output_type": "execute_result"
    }
   ],
   "source": [
    "testy"
   ]
  },
  {
   "cell_type": "code",
   "execution_count": 40,
   "id": "68242352",
   "metadata": {},
   "outputs": [
    {
     "data": {
      "text/plain": [
       "2"
      ]
     },
     "execution_count": 40,
     "metadata": {},
     "output_type": "execute_result"
    }
   ],
   "source": [
    "testy[5][1]"
   ]
  },
  {
   "cell_type": "code",
   "execution_count": 41,
   "id": "2dd561f7",
   "metadata": {},
   "outputs": [
    {
     "data": {
      "text/plain": [
       "{1: 3, 2: 2, 3: 2, 4: 3, 5: 1, 6: 1, 7: 1, 8: 1, 9: 2}"
      ]
     },
     "execution_count": 41,
     "metadata": {},
     "output_type": "execute_result"
    }
   ],
   "source": [
    "listy = [9,1,1,1,2,3,4,5,6,7,8,9,4,4,3,2]\n",
    "dict(sorted({i:listy.count(i) for i in listy}.items())) # Get counts for occurance in a list"
   ]
  },
  {
   "cell_type": "code",
   "execution_count": 45,
   "id": "9627edf9",
   "metadata": {},
   "outputs": [],
   "source": [
    "oh_tuple = (1,2,3)\n"
   ]
  },
  {
   "cell_type": "code",
   "execution_count": 46,
   "id": "41c8081c",
   "metadata": {},
   "outputs": [
    {
     "ename": "TypeError",
     "evalue": "'tuple' object does not support item assignment",
     "output_type": "error",
     "traceback": [
      "\u001b[0;31m---------------------------------------------------------------------------\u001b[0m",
      "\u001b[0;31mTypeError\u001b[0m                                 Traceback (most recent call last)",
      "Input \u001b[0;32mIn [46]\u001b[0m, in \u001b[0;36m<cell line: 1>\u001b[0;34m()\u001b[0m\n\u001b[0;32m----> 1\u001b[0m oh_tuple[\u001b[38;5;241m0\u001b[39m] \u001b[38;5;241m=\u001b[39m \u001b[38;5;124m'\u001b[39m\u001b[38;5;124mNEW\u001b[39m\u001b[38;5;124m'\u001b[39m\n",
      "\u001b[0;31mTypeError\u001b[0m: 'tuple' object does not support item assignment"
     ]
    }
   ],
   "source": [
    "oh_tuple[0] = 'NEW' # Tuples are immutable, do not support item assigment"
   ]
  },
  {
   "cell_type": "code",
   "execution_count": 51,
   "id": "827e8b53",
   "metadata": {},
   "outputs": [],
   "source": [
    "sety = {1,1,1,2,3,4,5,5,5} # We can create sets without using set()\n",
    "# Simply a dict with no key:values"
   ]
  },
  {
   "cell_type": "code",
   "execution_count": 52,
   "id": "bef24c18",
   "metadata": {},
   "outputs": [
    {
     "data": {
      "text/plain": [
       "{1, 2, 3, 4, 5, 10}"
      ]
     },
     "execution_count": 52,
     "metadata": {},
     "output_type": "execute_result"
    }
   ],
   "source": [
    "sety.add(10) # We use add() to append to sets\n",
    "sety"
   ]
  },
  {
   "cell_type": "code",
   "execution_count": 55,
   "id": "8224205b",
   "metadata": {},
   "outputs": [
    {
     "name": "stdout",
     "output_type": "stream",
     "text": [
      "False\n",
      "True\n",
      "False\n",
      "True\n"
     ]
    }
   ],
   "source": [
    "print(1 > 2)\n",
    "print(1 != 2)\n",
    "print(1 == 2)\n",
    "print(1 < 2)"
   ]
  },
  {
   "cell_type": "code",
   "execution_count": 60,
   "id": "aa2ab9de",
   "metadata": {},
   "outputs": [
    {
     "name": "stdout",
     "output_type": "stream",
     "text": [
      "True\n",
      "False\n",
      "True\n"
     ]
    }
   ],
   "source": [
    "print(1 < 2 and 3 > 1)\n",
    "print(1 < 2 and 3 < 1) # both must be true\n",
    "print(1 < 2 or 3 < 1 ) # one must be true"
   ]
  },
  {
   "cell_type": "code",
   "execution_count": 61,
   "id": "35573101",
   "metadata": {},
   "outputs": [
    {
     "data": {
      "text/plain": [
       "False"
      ]
     },
     "execution_count": 61,
     "metadata": {},
     "output_type": "execute_result"
    }
   ],
   "source": [
    "True and False\n",
    "# By default return is True"
   ]
  },
  {
   "cell_type": "code",
   "execution_count": 62,
   "id": "0409755c",
   "metadata": {},
   "outputs": [
    {
     "name": "stdout",
     "output_type": "stream",
     "text": [
      "lol\n"
     ]
    }
   ],
   "source": [
    "if 1 < 2:\n",
    "    print('lol')"
   ]
  },
  {
   "cell_type": "code",
   "execution_count": 64,
   "id": "d7b4c49e",
   "metadata": {},
   "outputs": [
    {
     "name": "stdout",
     "output_type": "stream",
     "text": [
      "hehe\n"
     ]
    }
   ],
   "source": [
    "if 'lol' == 'fakk':\n",
    "    print('asd')\n",
    "elif 3 == 3:\n",
    "    print('hehe')\n",
    "else:\n",
    "    print('asd2')"
   ]
  },
  {
   "cell_type": "code",
   "execution_count": 69,
   "id": "3d1d3794",
   "metadata": {},
   "outputs": [
    {
     "name": "stdout",
     "output_type": "stream",
     "text": [
      "bajs\n"
     ]
    }
   ],
   "source": [
    "seq = 0\n",
    "while seq < 100:\n",
    "    print('bajs')\n",
    "    seq += 100"
   ]
  },
  {
   "cell_type": "code",
   "execution_count": 77,
   "id": "78c02f9c",
   "metadata": {},
   "outputs": [
    {
     "name": "stdout",
     "output_type": "stream",
     "text": [
      "12 is div by 12\n",
      "24 is div by 12\n",
      "36 is div by 12\n",
      "48 is div by 12\n",
      "60 is div by 12\n",
      "72 is div by 12\n",
      "84 is div by 12\n",
      "96 is div by 12\n"
     ]
    }
   ],
   "source": [
    "seq1 = list(range(1,101))\n",
    "for i in seq1:\n",
    "    if i % 12 == 0:\n",
    "        print(str(i)+ ' is div by 12')"
   ]
  },
  {
   "cell_type": "code",
   "execution_count": 80,
   "id": "57a52934",
   "metadata": {},
   "outputs": [
    {
     "name": "stdout",
     "output_type": "stream",
     "text": [
      "0\n",
      "[0, 1, 2, 3, 4]\n"
     ]
    }
   ],
   "source": [
    "for i in range(0, 1):\n",
    "    print(i)\n",
    "print(list(range(0,5)))"
   ]
  },
  {
   "cell_type": "code",
   "execution_count": 84,
   "id": "7c9fee20",
   "metadata": {},
   "outputs": [
    {
     "data": {
      "text/plain": [
       "[1, 4, 9, 16]"
      ]
     },
     "execution_count": 84,
     "metadata": {},
     "output_type": "execute_result"
    }
   ],
   "source": [
    "[i**2 for i in range(1,5)]"
   ]
  },
  {
   "cell_type": "code",
   "execution_count": 90,
   "id": "5ec74fd7",
   "metadata": {},
   "outputs": [],
   "source": [
    "def my_func(name):\n",
    "    print('Hello ' + name)"
   ]
  },
  {
   "cell_type": "code",
   "execution_count": 92,
   "id": "c47a55ca",
   "metadata": {},
   "outputs": [
    {
     "name": "stdout",
     "output_type": "stream",
     "text": [
      "Hello Jose\n"
     ]
    }
   ],
   "source": [
    "my_func('Jose')"
   ]
  },
  {
   "cell_type": "code",
   "execution_count": 94,
   "id": "6a2fcbd5",
   "metadata": {},
   "outputs": [
    {
     "data": {
      "text/plain": [
       "<function __main__.my_func(name)>"
      ]
     },
     "execution_count": 94,
     "metadata": {},
     "output_type": "execute_result"
    }
   ],
   "source": [
    "my_func #If we dont call the function wiht () then py just tells us what it is"
   ]
  },
  {
   "cell_type": "code",
   "execution_count": 98,
   "id": "6ed67124",
   "metadata": {},
   "outputs": [],
   "source": [
    "def square(num):\n",
    "    \"\"\"\n",
    "    This is a docstring\n",
    "    Can go multiple lines\n",
    "    This function squares a value\n",
    "    \"\"\"\n",
    "    return num**2"
   ]
  },
  {
   "cell_type": "code",
   "execution_count": 100,
   "id": "c1122e20",
   "metadata": {},
   "outputs": [
    {
     "data": {
      "text/plain": [
       "4"
      ]
     },
     "execution_count": 100,
     "metadata": {},
     "output_type": "execute_result"
    }
   ],
   "source": [
    "tesa = square(2)\n",
    "tesa"
   ]
  },
  {
   "cell_type": "code",
   "execution_count": 102,
   "id": "384f0da8",
   "metadata": {},
   "outputs": [
    {
     "data": {
      "text/plain": [
       "<function __main__.square(num)>"
      ]
     },
     "execution_count": 102,
     "metadata": {},
     "output_type": "execute_result"
    }
   ],
   "source": [
    "square # Shift + Tab this bad boy to show documentation "
   ]
  },
  {
   "cell_type": "code",
   "execution_count": 105,
   "id": "58317d99",
   "metadata": {},
   "outputs": [],
   "source": [
    "seq3 = list(range(1,6))"
   ]
  },
  {
   "cell_type": "code",
   "execution_count": 108,
   "id": "58767b6b",
   "metadata": {},
   "outputs": [
    {
     "data": {
      "text/plain": [
       "[1, 4, 9, 16, 25]"
      ]
     },
     "execution_count": 108,
     "metadata": {},
     "output_type": "execute_result"
    }
   ],
   "source": [
    "list(map(square, seq3))"
   ]
  },
  {
   "cell_type": "code",
   "execution_count": 109,
   "id": "b3280668",
   "metadata": {},
   "outputs": [
    {
     "data": {
      "text/plain": [
       "[1, 4, 9, 16, 25]"
      ]
     },
     "execution_count": 109,
     "metadata": {},
     "output_type": "execute_result"
    }
   ],
   "source": [
    "list(map(lambda x:x**2, seq3)) #Lamba squared"
   ]
  },
  {
   "cell_type": "code",
   "execution_count": 111,
   "id": "a15969ce",
   "metadata": {},
   "outputs": [
    {
     "data": {
      "text/plain": [
       "[2, 4]"
      ]
     },
     "execution_count": 111,
     "metadata": {},
     "output_type": "execute_result"
    }
   ],
   "source": [
    "list(filter(lambda i:i%2 == 0, seq3)) #Filtrera ut jämna"
   ]
  },
  {
   "cell_type": "code",
   "execution_count": 113,
   "id": "b6dd003b",
   "metadata": {},
   "outputs": [],
   "source": [
    "s = 'hello my name is SAM'"
   ]
  },
  {
   "cell_type": "code",
   "execution_count": 118,
   "id": "65b12e3e",
   "metadata": {},
   "outputs": [
    {
     "name": "stdout",
     "output_type": "stream",
     "text": [
      "hello my name is sam\n",
      "HELLO MY NAME IS SAM\n",
      "['hello', 'my', 'name', 'is', 'SAM']\n",
      "hello_my_name_is_SAM\n"
     ]
    }
   ],
   "source": [
    "print(s.lower())\n",
    "print(s.upper())\n",
    "print(s.split(' '))\n",
    "print(s.replace(' ', '_'))"
   ]
  },
  {
   "cell_type": "code",
   "execution_count": 136,
   "id": "fcc8b24e",
   "metadata": {},
   "outputs": [
    {
     "name": "stdout",
     "output_type": "stream",
     "text": [
      "dict_items([('key1', 1), ('key2', 2), ('key3', 3)])\n",
      "dict_values([1, 2, 3])\n"
     ]
    }
   ],
   "source": [
    "dicts = {'key1':1, 'key2':2, 'key3':3}\n",
    "print(dicts.items())\n",
    "print(dicts.values())"
   ]
  },
  {
   "cell_type": "code",
   "execution_count": 124,
   "id": "66f2d8b9",
   "metadata": {},
   "outputs": [],
   "source": [
    "restys = [1,2,3,4,5]\n",
    "first = restys.pop(0)"
   ]
  },
  {
   "cell_type": "code",
   "execution_count": 126,
   "id": "3f3d3dea",
   "metadata": {},
   "outputs": [
    {
     "name": "stdout",
     "output_type": "stream",
     "text": [
      "[2, 3, 4, 5]\n",
      "1\n"
     ]
    }
   ],
   "source": [
    "print(restys)\n",
    "print(first) #Poped off!"
   ]
  },
  {
   "cell_type": "code",
   "execution_count": 128,
   "id": "bf28cd42",
   "metadata": {},
   "outputs": [
    {
     "data": {
      "text/plain": [
       "False"
      ]
     },
     "execution_count": 128,
     "metadata": {},
     "output_type": "execute_result"
    }
   ],
   "source": [
    "'x' in restys"
   ]
  },
  {
   "cell_type": "code",
   "execution_count": 131,
   "id": "2cb63e44",
   "metadata": {},
   "outputs": [],
   "source": [
    "# Tuple unpacking\n",
    "x = [(1,2),(3,4),(5,6)]"
   ]
  },
  {
   "cell_type": "code",
   "execution_count": 135,
   "id": "8ee5833f",
   "metadata": {},
   "outputs": [
    {
     "name": "stdout",
     "output_type": "stream",
     "text": [
      "1 2\n",
      "3 4\n",
      "5 6\n"
     ]
    }
   ],
   "source": [
    "for a,b in x:\n",
    "    print(a,b)"
   ]
  },
  {
   "cell_type": "code",
   "execution_count": 139,
   "id": "86a48567",
   "metadata": {},
   "outputs": [
    {
     "name": "stdout",
     "output_type": "stream",
     "text": [
      "key1 1\n",
      "key2 2\n",
      "key3 3\n"
     ]
    }
   ],
   "source": [
    "# Similarly to Tuple unpacking\n",
    "for a,b in dicts.items():\n",
    "    print(a,b)"
   ]
  },
  {
   "cell_type": "code",
   "execution_count": null,
   "id": "1fc78efd",
   "metadata": {},
   "outputs": [],
   "source": []
  }
 ],
 "metadata": {
  "kernelspec": {
   "display_name": "Python 3 (ipykernel)",
   "language": "python",
   "name": "python3"
  },
  "language_info": {
   "codemirror_mode": {
    "name": "ipython",
    "version": 3
   },
   "file_extension": ".py",
   "mimetype": "text/x-python",
   "name": "python",
   "nbconvert_exporter": "python",
   "pygments_lexer": "ipython3",
   "version": "3.10.4"
  }
 },
 "nbformat": 4,
 "nbformat_minor": 5
}
