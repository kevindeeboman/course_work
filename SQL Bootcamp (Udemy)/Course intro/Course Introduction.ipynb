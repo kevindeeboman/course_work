{
 "cells": [
  {
   "cell_type": "markdown",
   "id": "33a88b15",
   "metadata": {},
   "source": [
    "### Course Introduction\n",
    "\n",
    "#### Why use databases?\n",
    "* Spread sheets (Excel)\n",
    "    * Spread sheets are great for one time analysis. \n",
    "    * Useful for untrained people to work with data. \n",
    "    * Cannot handel large amounts of data.\n",
    "\n",
    "* Databases\n",
    "    * Databases are great for data integrity.\n",
    "    * Can handle huge amounts of data. \n",
    "    * Quickly can combine different datasets.\n",
    "    * Can be automated with the SQL syntax.\n",
    "    * Can be linked to applications that use data. Most applications are connected to databases.\n",
    "    \n",
    "### SQL (Structured Query Language)"
   ]
  },
  {
   "cell_type": "code",
   "execution_count": null,
   "id": "270c6ad4",
   "metadata": {},
   "outputs": [],
   "source": []
  }
 ],
 "metadata": {
  "kernelspec": {
   "display_name": "Python 3.9.5 64-bit",
   "language": "python",
   "name": "python395jvsc74a57bd050292dbb1f747f7151d445135d392af3138fb3c65386d17d9510cb605222b10b"
  },
  "language_info": {
   "codemirror_mode": {
    "name": "ipython",
    "version": 3
   },
   "file_extension": ".py",
   "mimetype": "text/x-python",
   "name": "python",
   "nbconvert_exporter": "python",
   "pygments_lexer": "ipython3",
   "version": "3.9.5"
  }
 },
 "nbformat": 4,
 "nbformat_minor": 5
}
