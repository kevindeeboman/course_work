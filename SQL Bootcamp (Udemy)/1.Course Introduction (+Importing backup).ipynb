{
 "cells": [
  {
   "cell_type": "markdown",
   "id": "834ade92",
   "metadata": {},
   "source": [
    "### Course Introduction\n",
    "\n",
    "#### Why use databases?\n",
    "* Spread sheets (Excel)\n",
    "    * Spread sheets are great for one time analysis. \n",
    "    * Useful for untrained people to work with data. \n",
    "    * Cannot handel large amounts of data.\n",
    "\n",
    "* Databases\n",
    "    * Databases are great for data integrity.\n",
    "    * Can handle huge amounts of data. \n",
    "    * Quickly can combine different datasets.\n",
    "    * Can be automated with the SQL syntax.\n",
    "    * Can be linked to applications that use data. Most applications are connected to databases.\n",
    "    \n",
    "### SQL == (Structured Query Language)"
   ]
  },
  {
   "cell_type": "markdown",
   "id": "d14cde60",
   "metadata": {},
   "source": [
    "## Command line for SQL\n",
    "\n",
    "#### Creating and dropping databases\n",
    "* **createdb dbname**\n",
    "* **dropdb dbname**, can add -f to force removal i.e. **dropdb -f dbname**\n",
    "\n",
    "#### Enter postgres shell and edit in command line\n",
    "* Enter db using **psql \"dbname\"**\n",
    "* Show tables **\\dt**\n",
    "* Quit out of specific db using **\\q**\n",
    "\n",
    "#### Importing database dumps/back ups into pgSQL\n",
    "* Use the **pg_restore** command in terminal! Simply connect to tar. file  \n",
    "pg_restore --dbname=practice --verbose /Users/kevindeeboman/Downloads/dvdrental.tar\n",
    "\n"
   ]
  }
 ],
 "metadata": {
  "kernelspec": {
   "display_name": "Python 3.9.5 64-bit",
   "language": "python",
   "name": "python395jvsc74a57bd050292dbb1f747f7151d445135d392af3138fb3c65386d17d9510cb605222b10b"
  },
  "language_info": {
   "codemirror_mode": {
    "name": "ipython",
    "version": 3
   },
   "file_extension": ".py",
   "mimetype": "text/x-python",
   "name": "python",
   "nbconvert_exporter": "python",
   "pygments_lexer": "ipython3",
   "version": "3.9.5"
  }
 },
 "nbformat": 4,
 "nbformat_minor": 5
}
